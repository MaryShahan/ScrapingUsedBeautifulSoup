{
  "nbformat": 4,
  "nbformat_minor": 0,
  "metadata": {
    "colab": {
      "name": "ScrapingUsedBeautifulSoup.ipynb",
      "provenance": [],
      "authorship_tag": "ABX9TyMbUG4vizvT4ZPrc+jKs+wt",
      "include_colab_link": true
    },
    "kernelspec": {
      "name": "python3",
      "display_name": "Python 3"
    },
    "language_info": {
      "name": "python"
    }
  },
  "cells": [
    {
      "cell_type": "markdown",
      "metadata": {
        "id": "view-in-github",
        "colab_type": "text"
      },
      "source": [
        "<a href=\"https://colab.research.google.com/github/maryamshahani/ScrapingUsedBeautifulSoup/blob/main/ScrapingUsedBeautifulSoup.ipynb\" target=\"_parent\"><img src=\"https://colab.research.google.com/assets/colab-badge.svg\" alt=\"Open In Colab\"/></a>"
      ]
    },
    {
      "cell_type": "markdown",
      "source": [
        "# Can you extract information from web pages and store it in a CSV file?"
      ],
      "metadata": {
        "id": "11adcLfflwBH"
      }
    },
    {
      "cell_type": "code",
      "execution_count": 12,
      "metadata": {
        "id": "Y_OtHEyikh9E"
      },
      "outputs": [],
      "source": [
        "import urllib.request #to access the website\n",
        "from bs4 import BeautifulSoup as bs #web crawler\n",
        "import re #to Natural Language Processing with strings\n",
        "import pandas as pd"
      ]
    },
    {
      "cell_type": "markdown",
      "source": [
        "# Extract and Store Function Names & Function Usage \n",
        "from the Python Documentation - Random Functions webpage: https://docs.python.org/3/library/random.html"
      ],
      "metadata": {
        "id": "3aZXZbm8lcR1"
      }
    },
    {
      "cell_type": "code",
      "source": [
        "#Load HTML code from a URL\n",
        "page = urllib.request.urlopen('https://docs.python.org/3/library/random.html')\n",
        "soup = bs(page) #print(soup) would be all HTML code but we need just function names e.g. <dt id=\"random.randint\">\n",
        "\n",
        "#find all function names\n",
        "names = soup.body.findAll('dt') \n",
        "function_names = re.findall('id=\"random.\\w+' , str(names)) #print(names) still need to categorize more so\n",
        "print(function_names[:5])\n",
        "function_names = [item[4:] for item in function_names] #to cut 'id=\"' from them\n",
        "print(function_names[:5])\n"
      ],
      "metadata": {
        "colab": {
          "base_uri": "https://localhost:8080/"
        },
        "id": "jzKsjmyYlYnu",
        "outputId": "d0b1908a-0394-4832-e3f5-210e11e5918a"
      },
      "execution_count": 34,
      "outputs": [
        {
          "output_type": "stream",
          "name": "stdout",
          "text": [
            "['id=\"random.seed', 'id=\"random.getstate', 'id=\"random.setstate', 'id=\"random.randbytes', 'id=\"random.randrange']\n",
            "['random.seed', 'random.getstate', 'random.setstate', 'random.randbytes', 'random.randrange']\n"
          ]
        }
      ]
    },
    {
      "cell_type": "code",
      "source": [
        "#find all function descriptions\n",
        "description = soup.body.findAll('dd') #print(description) still need to categorize more so\n",
        "function_description = []\n",
        "\n",
        "for item in description:\n",
        "  item = item.text\n",
        "  item = item.replace('\\n', ' ') #te replace \\n in description with space\n",
        "  function_description.append(item)\n",
        "\n",
        "print(function_description[0])"
      ],
      "metadata": {
        "colab": {
          "base_uri": "https://localhost:8080/"
        },
        "id": "MgFNDqcdnSn3",
        "outputId": "525e3d3f-5193-4f9f-a937-a4b6476974a1"
      },
      "execution_count": 35,
      "outputs": [
        {
          "output_type": "stream",
          "name": "stdout",
          "text": [
            "Initialize the random number generator. If a is omitted or None, the current system time is used.  If randomness sources are provided by the operating system, they are used instead of the system time (see the os.urandom() function for details on availability). If a is an int, it is used directly. With version 2 (the default), a str, bytes, or bytearray object gets converted to an int and all of its bits are used. With version 1 (provided for reproducing random sequences from older versions of Python), the algorithm for str and bytes generates a narrower range of seeds.  Changed in version 3.2: Moved to the version 2 scheme which uses all of the bits in a string seed.   Deprecated since version 3.9: In the future, the seed must be one of the following types: NoneType, int, float, str, bytes, or bytearray.  \n"
          ]
        }
      ]
    },
    {
      "cell_type": "markdown",
      "source": [
        "# Store Data inside a DataFrame"
      ],
      "metadata": {
        "id": "eo_Fr-XEKMjm"
      }
    },
    {
      "cell_type": "code",
      "source": [
        "#checking our function length before adding to dataframe\n",
        "print(len(function_names))\n",
        "print(len(function_description))\n",
        "\n",
        "#create a dataframe\n",
        "data = pd.DataFrame({'function name' : function_names ,\n",
        "                     'function description': function_description})\n",
        "data.head()"
      ],
      "metadata": {
        "colab": {
          "base_uri": "https://localhost:8080/",
          "height": 238
        },
        "id": "wy-CM302JZDh",
        "outputId": "b569d248-3767-4dcc-ab84-5ee8c0816b96"
      },
      "execution_count": 27,
      "outputs": [
        {
          "output_type": "stream",
          "name": "stdout",
          "text": [
            "25\n",
            "25\n"
          ]
        },
        {
          "output_type": "execute_result",
          "data": {
            "text/html": [
              "<div>\n",
              "<style scoped>\n",
              "    .dataframe tbody tr th:only-of-type {\n",
              "        vertical-align: middle;\n",
              "    }\n",
              "\n",
              "    .dataframe tbody tr th {\n",
              "        vertical-align: top;\n",
              "    }\n",
              "\n",
              "    .dataframe thead th {\n",
              "        text-align: right;\n",
              "    }\n",
              "</style>\n",
              "<table border=\"1\" class=\"dataframe\">\n",
              "  <thead>\n",
              "    <tr style=\"text-align: right;\">\n",
              "      <th></th>\n",
              "      <th>function name</th>\n",
              "      <th>function description</th>\n",
              "    </tr>\n",
              "  </thead>\n",
              "  <tbody>\n",
              "    <tr>\n",
              "      <th>0</th>\n",
              "      <td>random.seed</td>\n",
              "      <td>Initialize the random number generator. If a i...</td>\n",
              "    </tr>\n",
              "    <tr>\n",
              "      <th>1</th>\n",
              "      <td>random.getstate</td>\n",
              "      <td>Return an object capturing the current interna...</td>\n",
              "    </tr>\n",
              "    <tr>\n",
              "      <th>2</th>\n",
              "      <td>random.setstate</td>\n",
              "      <td>state should have been obtained from a previou...</td>\n",
              "    </tr>\n",
              "    <tr>\n",
              "      <th>3</th>\n",
              "      <td>random.randbytes</td>\n",
              "      <td>Generate n random bytes. This method should no...</td>\n",
              "    </tr>\n",
              "    <tr>\n",
              "      <th>4</th>\n",
              "      <td>random.randrange</td>\n",
              "      <td>Return a randomly selected element from range(...</td>\n",
              "    </tr>\n",
              "  </tbody>\n",
              "</table>\n",
              "</div>"
            ],
            "text/plain": [
              "      function name                               function description\n",
              "0       random.seed  Initialize the random number generator. If a i...\n",
              "1   random.getstate  Return an object capturing the current interna...\n",
              "2   random.setstate  state should have been obtained from a previou...\n",
              "3  random.randbytes  Generate n random bytes. This method should no...\n",
              "4  random.randrange  Return a randomly selected element from range(..."
            ]
          },
          "metadata": {},
          "execution_count": 27
        }
      ]
    },
    {
      "cell_type": "code",
      "source": [
        "#target specific function\n",
        "example = soup.body.findAll('div' , attrs={'id' : 'bookkeeping-functions'}) \n",
        "print(example)"
      ],
      "metadata": {
        "colab": {
          "base_uri": "https://localhost:8080/"
        },
        "id": "-ChBWTKgRGDa",
        "outputId": "4c9f797b-48c0-4d7c-9774-38f2184729a2"
      },
      "execution_count": 39,
      "outputs": [
        {
          "output_type": "stream",
          "name": "stdout",
          "text": [
            "[<div class=\"section\" id=\"bookkeeping-functions\">\n",
            "<h2>Bookkeeping functions<a class=\"headerlink\" href=\"#bookkeeping-functions\" title=\"Permalink to this headline\">¶</a></h2>\n",
            "<dl class=\"py function\">\n",
            "<dt id=\"random.seed\">\n",
            "<code class=\"sig-prename descclassname\">random.</code><code class=\"sig-name descname\">seed</code><span class=\"sig-paren\">(</span><em class=\"sig-param\"><span class=\"n\">a</span><span class=\"o\">=</span><span class=\"default_value\">None</span></em>, <em class=\"sig-param\"><span class=\"n\">version</span><span class=\"o\">=</span><span class=\"default_value\">2</span></em><span class=\"sig-paren\">)</span><a class=\"headerlink\" href=\"#random.seed\" title=\"Permalink to this definition\">¶</a></dt>\n",
            "<dd><p>Initialize the random number generator.</p>\n",
            "<p>If <em>a</em> is omitted or <code class=\"docutils literal notranslate\"><span class=\"pre\">None</span></code>, the current system time is used.  If\n",
            "randomness sources are provided by the operating system, they are used\n",
            "instead of the system time (see the <a class=\"reference internal\" href=\"os.html#os.urandom\" title=\"os.urandom\"><code class=\"xref py py-func docutils literal notranslate\"><span class=\"pre\">os.urandom()</span></code></a> function for details\n",
            "on availability).</p>\n",
            "<p>If <em>a</em> is an int, it is used directly.</p>\n",
            "<p>With version 2 (the default), a <a class=\"reference internal\" href=\"stdtypes.html#str\" title=\"str\"><code class=\"xref py py-class docutils literal notranslate\"><span class=\"pre\">str</span></code></a>, <a class=\"reference internal\" href=\"stdtypes.html#bytes\" title=\"bytes\"><code class=\"xref py py-class docutils literal notranslate\"><span class=\"pre\">bytes</span></code></a>, or <a class=\"reference internal\" href=\"stdtypes.html#bytearray\" title=\"bytearray\"><code class=\"xref py py-class docutils literal notranslate\"><span class=\"pre\">bytearray</span></code></a>\n",
            "object gets converted to an <a class=\"reference internal\" href=\"functions.html#int\" title=\"int\"><code class=\"xref py py-class docutils literal notranslate\"><span class=\"pre\">int</span></code></a> and all of its bits are used.</p>\n",
            "<p>With version 1 (provided for reproducing random sequences from older versions\n",
            "of Python), the algorithm for <a class=\"reference internal\" href=\"stdtypes.html#str\" title=\"str\"><code class=\"xref py py-class docutils literal notranslate\"><span class=\"pre\">str</span></code></a> and <a class=\"reference internal\" href=\"stdtypes.html#bytes\" title=\"bytes\"><code class=\"xref py py-class docutils literal notranslate\"><span class=\"pre\">bytes</span></code></a> generates a\n",
            "narrower range of seeds.</p>\n",
            "<div class=\"versionchanged\">\n",
            "<p><span class=\"versionmodified changed\">Changed in version 3.2: </span>Moved to the version 2 scheme which uses all of the bits in a string seed.</p>\n",
            "</div>\n",
            "<div class=\"deprecated\">\n",
            "<p><span class=\"versionmodified deprecated\">Deprecated since version 3.9: </span>In the future, the <em>seed</em> must be one of the following types:\n",
            "<em>NoneType</em>, <a class=\"reference internal\" href=\"functions.html#int\" title=\"int\"><code class=\"xref py py-class docutils literal notranslate\"><span class=\"pre\">int</span></code></a>, <a class=\"reference internal\" href=\"functions.html#float\" title=\"float\"><code class=\"xref py py-class docutils literal notranslate\"><span class=\"pre\">float</span></code></a>, <a class=\"reference internal\" href=\"stdtypes.html#str\" title=\"str\"><code class=\"xref py py-class docutils literal notranslate\"><span class=\"pre\">str</span></code></a>,\n",
            "<a class=\"reference internal\" href=\"stdtypes.html#bytes\" title=\"bytes\"><code class=\"xref py py-class docutils literal notranslate\"><span class=\"pre\">bytes</span></code></a>, or <a class=\"reference internal\" href=\"stdtypes.html#bytearray\" title=\"bytearray\"><code class=\"xref py py-class docutils literal notranslate\"><span class=\"pre\">bytearray</span></code></a>.</p>\n",
            "</div>\n",
            "</dd></dl>\n",
            "<dl class=\"py function\">\n",
            "<dt id=\"random.getstate\">\n",
            "<code class=\"sig-prename descclassname\">random.</code><code class=\"sig-name descname\">getstate</code><span class=\"sig-paren\">(</span><span class=\"sig-paren\">)</span><a class=\"headerlink\" href=\"#random.getstate\" title=\"Permalink to this definition\">¶</a></dt>\n",
            "<dd><p>Return an object capturing the current internal state of the generator.  This\n",
            "object can be passed to <a class=\"reference internal\" href=\"#random.setstate\" title=\"random.setstate\"><code class=\"xref py py-func docutils literal notranslate\"><span class=\"pre\">setstate()</span></code></a> to restore the state.</p>\n",
            "</dd></dl>\n",
            "<dl class=\"py function\">\n",
            "<dt id=\"random.setstate\">\n",
            "<code class=\"sig-prename descclassname\">random.</code><code class=\"sig-name descname\">setstate</code><span class=\"sig-paren\">(</span><em class=\"sig-param\"><span class=\"n\">state</span></em><span class=\"sig-paren\">)</span><a class=\"headerlink\" href=\"#random.setstate\" title=\"Permalink to this definition\">¶</a></dt>\n",
            "<dd><p><em>state</em> should have been obtained from a previous call to <a class=\"reference internal\" href=\"#random.getstate\" title=\"random.getstate\"><code class=\"xref py py-func docutils literal notranslate\"><span class=\"pre\">getstate()</span></code></a>, and\n",
            "<a class=\"reference internal\" href=\"#random.setstate\" title=\"random.setstate\"><code class=\"xref py py-func docutils literal notranslate\"><span class=\"pre\">setstate()</span></code></a> restores the internal state of the generator to what it was at\n",
            "the time <a class=\"reference internal\" href=\"#random.getstate\" title=\"random.getstate\"><code class=\"xref py py-func docutils literal notranslate\"><span class=\"pre\">getstate()</span></code></a> was called.</p>\n",
            "</dd></dl>\n",
            "</div>]\n"
          ]
        }
      ]
    },
    {
      "cell_type": "code",
      "source": [
        "#connect to google drive:\n",
        "from google.colab import drive\n",
        "drive.mount('/content/drive')\n",
        "data.to_csv('/content/drive/MyDrive/GoogleColabFiles/my_beautiful.csv')"
      ],
      "metadata": {
        "colab": {
          "base_uri": "https://localhost:8080/"
        },
        "id": "C66pQaJ5UyrS",
        "outputId": "db1b8ac9-241c-4ea1-df08-8120828312d7"
      },
      "execution_count": 40,
      "outputs": [
        {
          "output_type": "stream",
          "name": "stdout",
          "text": [
            "Drive already mounted at /content/drive; to attempt to forcibly remount, call drive.mount(\"/content/drive\", force_remount=True).\n"
          ]
        }
      ]
    }
  ]
}